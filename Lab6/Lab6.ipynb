{
 "cells": [
  {
   "cell_type": "markdown",
   "metadata": {},
   "source": [
    "<div class=\"alert alert-block alert-info\">\n",
    "<h3>Student Information</h3> Please provide information about yourself.<br>\n",
    "<b>Name</b>:  <br>\n",
    "<b>NetID</b>:  <br>\n",
    "<b>Recitation (01/02)</b>:  <br>\n",
    "<b>Notes to Grader</b> (optional):<br>\n",
    "<br><br>\n",
    "<b>IMPORTANT</b>\n",
    "Your work will not be graded withour your initials below<br>\n",
    "I certify that this lab represents my own work and I have read the RU academic intergrity policies at<br>\n",
    "<a href=\"https://www.cs.rutgers.edu/academic-integrity/introduction\">https://www.cs.rutgers.edu/academic-integrity/introduction </a><br>\n",
    "<b>Initials</b>: DC    \n",
    "\n",
    "\n",
    "<h3>Grader Notes</h3>\n",
    "<b>Your Grade<b>:<br>\n",
    "<b>Grader Initials</b>:<br>\n",
    "<b>Grader Comments</b> (optional):<br>\n",
    "</div>"
   ]
  },
  {
   "cell_type": "markdown",
   "metadata": {},
   "source": [
    "# Lab 6: Univariate Linear Regression\n",
    "\n",
    "### Due Date: Tuesday April 4, 2019 on or before 11:59 PM\n",
    "\n",
    "In this lab we will work through the process of:\n",
    "1. implementing a univariate linear regression model\n",
    "2. defining, implementing and testing multiple loss functions \n",
    "3. minimizing loss functions using gradient descent\n",
    "4. comparing with python library functions\n",
    "5. Using the model to predict on new data\n"
   ]
  },
  {
   "cell_type": "markdown",
   "metadata": {},
   "source": [
    "## Initialize"
   ]
  },
  {
   "cell_type": "code",
   "execution_count": 1,
   "metadata": {},
   "outputs": [],
   "source": [
    "import pandas as pd\n",
    "import numpy as np\n",
    "import seaborn as sns\n",
    "import matplotlib.pyplot as plt\n",
    "np.random.seed(42)\n",
    "plt.style.use('fivethirtyeight')\n",
    "sns.set()\n",
    "sns.set_context(\"talk\")\n",
    "%matplotlib inline"
   ]
  },
  {
   "cell_type": "markdown",
   "metadata": {},
   "source": [
    "# Univariate Linear Regression\n",
    "In the first task of the lab, we will model linear regression based on a data set that contains grades from CS 205 course in fall 2018. The dataset (with no ID's) contain midterm and final exam grades of Rutgers students (including other assignment grades). \n",
    "\n",
    "# Task 1 - Initialization\n",
    "Read the file into a dataframe and keep only the midtermRaw and FinaRaw columns. We will be doing univariate regression on x=midterm, y=finalExam\n",
    "The goal is to find a model that will allow us to predict the final exam score given the midterm score."
   ]
  },
  {
   "cell_type": "markdown",
   "metadata": {},
   "source": [
    "### Activity 1.1  Read Data"
   ]
  },
  {
   "cell_type": "code",
   "execution_count": 2,
   "metadata": {},
   "outputs": [
    {
     "data": {
      "text/html": [
       "<div>\n",
       "<style scoped>\n",
       "    .dataframe tbody tr th:only-of-type {\n",
       "        vertical-align: middle;\n",
       "    }\n",
       "\n",
       "    .dataframe tbody tr th {\n",
       "        vertical-align: top;\n",
       "    }\n",
       "\n",
       "    .dataframe thead th {\n",
       "        text-align: right;\n",
       "    }\n",
       "</style>\n",
       "<table border=\"1\" class=\"dataframe\">\n",
       "  <thead>\n",
       "    <tr style=\"text-align: right;\">\n",
       "      <th></th>\n",
       "      <th>midtermRaw</th>\n",
       "      <th>finalRaw</th>\n",
       "    </tr>\n",
       "  </thead>\n",
       "  <tbody>\n",
       "    <tr>\n",
       "      <th>3</th>\n",
       "      <td>45.5</td>\n",
       "      <td>62.0</td>\n",
       "    </tr>\n",
       "    <tr>\n",
       "      <th>4</th>\n",
       "      <td>58.0</td>\n",
       "      <td>60.5</td>\n",
       "    </tr>\n",
       "    <tr>\n",
       "      <th>5</th>\n",
       "      <td>68.0</td>\n",
       "      <td>32.0</td>\n",
       "    </tr>\n",
       "    <tr>\n",
       "      <th>6</th>\n",
       "      <td>64.5</td>\n",
       "      <td>50.5</td>\n",
       "    </tr>\n",
       "    <tr>\n",
       "      <th>7</th>\n",
       "      <td>74.0</td>\n",
       "      <td>51.0</td>\n",
       "    </tr>\n",
       "  </tbody>\n",
       "</table>\n",
       "</div>"
      ],
      "text/plain": [
       "   midtermRaw  finalRaw\n",
       "3        45.5      62.0\n",
       "4        58.0      60.5\n",
       "5        68.0      32.0\n",
       "6        64.5      50.5\n",
       "7        74.0      51.0"
      ]
     },
     "execution_count": 2,
     "metadata": {},
     "output_type": "execute_result"
    }
   ],
   "source": [
    "import pandas as pd\n",
    "df = pd.read_csv(\"data/CS205_grades_12_19_18_Final.csv\")\n",
    "df_cleaned = df[['midtermRaw','finalRaw']]\n",
    "# drop all undefined rows \n",
    "df_cleaned = df_cleaned.dropna() \n",
    "df_cleaned.head()"
   ]
  },
  {
   "cell_type": "markdown",
   "metadata": {},
   "source": [
    "### Activity 1.2 Normalize Data\n",
    "In this task, you need to normalize data using MinMaxScaler from sklearn.preprocessing. Normalize midterm and final scores to be between 0 and 1. X_scaled_values and Y_scaled_values are the normalized midterm and final exam scores."
   ]
  },
  {
   "cell_type": "code",
   "execution_count": 3,
   "metadata": {},
   "outputs": [
    {
     "name": "stdout",
     "output_type": "stream",
     "text": [
      "[[0.37857143]\n",
      " [0.55714286]\n",
      " [0.7       ]\n",
      " [0.65      ]\n",
      " [0.78571429]\n",
      " [0.47857143]\n",
      " [0.32142857]\n",
      " [0.80714286]\n",
      " [0.58571429]\n",
      " [0.06428571]\n",
      " [0.53571429]\n",
      " [0.46428571]\n",
      " [0.42142857]\n",
      " [0.83571429]\n",
      " [0.35      ]\n",
      " [0.        ]\n",
      " [0.65      ]\n",
      " [0.48571429]\n",
      " [0.55      ]\n",
      " [0.49285714]\n",
      " [1.        ]\n",
      " [0.6       ]\n",
      " [0.31428571]\n",
      " [0.61428571]\n",
      " [0.55714286]\n",
      " [0.48571429]\n",
      " [0.04285714]\n",
      " [0.5       ]\n",
      " [0.23571429]\n",
      " [0.73571429]\n",
      " [0.59285714]\n",
      " [0.48571429]\n",
      " [0.15714286]\n",
      " [0.83571429]\n",
      " [0.14285714]\n",
      " [0.35      ]\n",
      " [0.41428571]\n",
      " [0.62142857]\n",
      " [1.        ]\n",
      " [0.70714286]\n",
      " [0.56428571]\n",
      " [0.9       ]\n",
      " [0.73571429]\n",
      " [0.24285714]\n",
      " [0.41428571]\n",
      " [0.65      ]\n",
      " [0.52142857]\n",
      " [0.65714286]\n",
      " [0.38571429]\n",
      " [0.4       ]\n",
      " [0.55      ]\n",
      " [0.52857143]\n",
      " [0.46428571]\n",
      " [0.81428571]\n",
      " [0.6       ]\n",
      " [0.54285714]\n",
      " [0.1       ]\n",
      " [0.50714286]\n",
      " [0.2       ]\n",
      " [0.63571429]\n",
      " [0.25714286]\n",
      " [0.94285714]\n",
      " [0.36428571]\n",
      " [0.53571429]\n",
      " [0.8       ]\n",
      " [0.34285714]\n",
      " [0.65      ]\n",
      " [0.67142857]\n",
      " [0.60714286]\n",
      " [0.31428571]\n",
      " [0.72142857]\n",
      " [0.55714286]\n",
      " [0.78571429]\n",
      " [0.31428571]\n",
      " [0.95714286]\n",
      " [0.17857143]\n",
      " [0.68571429]\n",
      " [0.44285714]\n",
      " [0.69285714]\n",
      " [0.17857143]\n",
      " [0.47142857]\n",
      " [0.52857143]\n",
      " [0.27142857]\n",
      " [0.45      ]\n",
      " [0.52857143]\n",
      " [0.48571429]\n",
      " [0.74285714]\n",
      " [0.25714286]\n",
      " [0.85714286]\n",
      " [0.29285714]\n",
      " [0.58571429]\n",
      " [0.70714286]\n",
      " [0.65714286]\n",
      " [0.27857143]\n",
      " [0.78571429]\n",
      " [0.25      ]\n",
      " [0.3       ]\n",
      " [0.58571429]\n",
      " [0.97142857]\n",
      " [0.02857143]\n",
      " [0.95      ]\n",
      " [0.44285714]\n",
      " [0.34285714]\n",
      " [0.48571429]\n",
      " [0.40714286]\n",
      " [0.7       ]\n",
      " [0.19285714]\n",
      " [0.37857143]\n",
      " [0.82142857]\n",
      " [0.87142857]\n",
      " [0.47857143]\n",
      " [0.04285714]\n",
      " [0.93571429]\n",
      " [0.47857143]\n",
      " [0.74285714]\n",
      " [0.63571429]\n",
      " [0.35714286]\n",
      " [0.82857143]\n",
      " [0.51428571]\n",
      " [0.22142857]\n",
      " [0.79285714]\n",
      " [0.92142857]\n",
      " [0.6       ]] [[0.79104478]\n",
      " [0.76865672]\n",
      " [0.34328358]\n",
      " [0.61940299]\n",
      " [0.62686567]\n",
      " [0.39552239]\n",
      " [0.43283582]\n",
      " [0.82835821]\n",
      " [0.6641791 ]\n",
      " [0.26119403]\n",
      " [0.74626866]\n",
      " [0.60447761]\n",
      " [0.79850746]\n",
      " [0.73134328]\n",
      " [0.36567164]\n",
      " [0.42537313]\n",
      " [0.63432836]\n",
      " [0.70895522]\n",
      " [0.81343284]\n",
      " [0.55223881]\n",
      " [0.76119403]\n",
      " [0.47014925]\n",
      " [0.53731343]\n",
      " [0.60447761]\n",
      " [0.20895522]\n",
      " [0.44776119]\n",
      " [0.17910448]\n",
      " [0.31343284]\n",
      " [0.35074627]\n",
      " [0.98507463]\n",
      " [0.5       ]\n",
      " [0.43283582]\n",
      " [0.5       ]\n",
      " [0.86567164]\n",
      " [0.40298507]\n",
      " [0.61940299]\n",
      " [0.6641791 ]\n",
      " [0.6119403 ]\n",
      " [1.        ]\n",
      " [0.45522388]\n",
      " [0.56716418]\n",
      " [0.65671642]\n",
      " [0.88059701]\n",
      " [0.45522388]\n",
      " [0.60447761]\n",
      " [0.53731343]\n",
      " [0.79850746]\n",
      " [0.44776119]\n",
      " [0.55970149]\n",
      " [0.76119403]\n",
      " [0.75373134]\n",
      " [0.67164179]\n",
      " [0.42537313]\n",
      " [0.7761194 ]\n",
      " [0.71641791]\n",
      " [0.6119403 ]\n",
      " [0.43283582]\n",
      " [0.61940299]\n",
      " [0.32835821]\n",
      " [0.46268657]\n",
      " [0.50746269]\n",
      " [0.47014925]\n",
      " [0.45522388]\n",
      " [0.48507463]\n",
      " [0.60447761]\n",
      " [0.47014925]\n",
      " [0.82089552]\n",
      " [0.88059701]\n",
      " [0.6641791 ]\n",
      " [0.38059701]\n",
      " [0.75373134]\n",
      " [0.50746269]\n",
      " [0.52238806]\n",
      " [0.53731343]\n",
      " [0.81343284]\n",
      " [0.26119403]\n",
      " [0.69402985]\n",
      " [0.51492537]\n",
      " [0.55223881]\n",
      " [0.49253731]\n",
      " [0.34328358]\n",
      " [0.51492537]\n",
      " [0.54477612]\n",
      " [0.34328358]\n",
      " [0.64179104]\n",
      " [0.74626866]\n",
      " [0.73134328]\n",
      " [0.15671642]\n",
      " [0.95522388]\n",
      " [0.53731343]\n",
      " [0.68656716]\n",
      " [0.40298507]\n",
      " [0.39552239]\n",
      " [0.37313433]\n",
      " [0.93283582]\n",
      " [0.31343284]\n",
      " [0.41791045]\n",
      " [0.38059701]\n",
      " [0.78358209]\n",
      " [0.        ]\n",
      " [0.81343284]\n",
      " [0.2761194 ]\n",
      " [0.50746269]\n",
      " [0.1641791 ]\n",
      " [0.49253731]\n",
      " [0.76119403]\n",
      " [0.51492537]\n",
      " [0.64925373]\n",
      " [0.92537313]\n",
      " [0.58955224]\n",
      " [0.82089552]\n",
      " [0.36567164]\n",
      " [0.85074627]\n",
      " [0.67910448]\n",
      " [0.6641791 ]\n",
      " [0.71641791]\n",
      " [0.44029851]\n",
      " [0.89552239]\n",
      " [0.67910448]\n",
      " [0.29850746]\n",
      " [0.76119403]\n",
      " [0.54477612]\n",
      " [0.44776119]]\n"
     ]
    }
   ],
   "source": [
    "# BEGIN SOLUTION\n",
    "\n",
    "X = df_cleaned.dropna().iloc[:,[0]]\n",
    "Y = df_cleaned.dropna().iloc[:,[1]]\n",
    "\n",
    "from sklearn.preprocessing import MinMaxScaler\n",
    "\n",
    "scaler = MinMaxScaler()\n",
    "X_scaled_values = scaler.fit_transform(X) \n",
    "X_scaled_values[:,:] = X_scaled_values\n",
    "\n",
    "Y_scaled_values = scaler.fit_transform(Y) \n",
    "Y_scaled_values[:,:] = Y_scaled_values\n",
    "\n",
    "\n",
    "# call the scaled vectors x and y\n",
    "x = X_scaled_values\n",
    "y = Y_scaled_values\n",
    "\n",
    "print(x,y)\n"
   ]
  },
  {
   "cell_type": "markdown",
   "metadata": {},
   "source": [
    "### Activity 1.3 Plot the data to see if a linear regression line is a good fit\n",
    "It is helpful to understand if the data lends to a linear regression model. In this activity, we will plot the points to see if a line fit to data is reasonable."
   ]
  },
  {
   "cell_type": "code",
   "execution_count": 4,
   "metadata": {},
   "outputs": [
    {
     "data": {
      "text/plain": [
       "<matplotlib.collections.PathCollection at 0x204b161fc88>"
      ]
     },
     "execution_count": 4,
     "metadata": {},
     "output_type": "execute_result"
    },
    {
     "data": {
      "image/png": "[encoded data removed]",
      "text/plain": [
       "<Figure size 432x288 with 1 Axes>"
      ]
     },
     "metadata": {
      "needs_background": "light"
     },
     "output_type": "display_data"
    }
   ],
   "source": [
    "import numpy as np\n",
    "import matplotlib.pyplot as plt\n",
    "\n",
    "### BEGIN SOLUTION\n",
    "\n",
    "plt.scatter(x,y, alpha=0.5, s=50)\n",
    "\n",
    "\n",
    "### END SOLUTION"
   ]
  },
  {
   "cell_type": "markdown",
   "metadata": {},
   "source": [
    "## Question 1.4\n",
    "### BEGIN ANSWER\n",
    "question: Based on what you see in the plot, do you think it is fine to use linear regression? Why?\n",
    "\n",
    "\n",
    "### END ANSWER"
   ]
  },
  {
   "cell_type": "markdown",
   "metadata": {},
   "source": [
    "# Task 2 Manual Exploration of Linear Regression Line\n",
    "In this task we will manually explore the linear regression line. This will give us a good intution about the process.\n",
    "The goal now is to fit a line \n",
    "$$\n",
    "h(\\theta) = \\theta_0 + \\theta_1*x \n",
    "$$\n",
    "to all data points (x,y), such that the error\n",
    "$$\n",
    "E(\\theta) = \\sum(h(\\theta)-y)^2 $$ is minimized. In this task we will manually change the values of theta0 and theta1 such that we obtain the smallest possible error. \n"
   ]
  },
  {
   "cell_type": "code",
   "execution_count": 5,
   "metadata": {},
   "outputs": [],
   "source": [
    "# define the function h(theta)\n",
    "def h(theta0, theta1, x):\n",
    "    \"\"\"\n",
    "    Return the model theta0 + theta1*x\n",
    "    \n",
    "    \"\"\"\n",
    "    return theta0 + theta1*x"
   ]
  },
  {
   "cell_type": "markdown",
   "metadata": {},
   "source": [
    "### Activity 2.1 - Define the square loss (L2) function\n",
    "Define the function, sqerror that computes the error based on the arguments provided. The function h(theta) is as defined above. Assume that x and y are the observed vectors. We use the average square loss or L2 loss in this case. Note that we assume global x and y vectors and do not pass them to the sqerror function and other functions that follow. This is a bad practice, but for the sake of simplicity we will do that."
   ]
  },
  {
   "cell_type": "code",
   "execution_count": 6,
   "metadata": {},
   "outputs": [
    {
     "data": {
      "text/plain": [
       "2.8891990884384047"
      ]
     },
     "execution_count": 6,
     "metadata": {},
     "output_type": "execute_result"
    }
   ],
   "source": [
    "import numpy as np\n",
    "\n",
    "## BEGIN SOLUTION\n",
    "def sqerror(theta0, theta1):\n",
    "    \"\"\"\n",
    "    Input: parameters theta0 and theta1 of the model \n",
    "    Input: x, y vectors\n",
    "    Returns: L2 square error sum\n",
    "    Assumptions: none\n",
    "    \"\"\"\n",
    "    \n",
    "    err = h(theta0, theta1, x)\n",
    "    square_error = np.sum(np.square(err-y))\n",
    "\n",
    "    return square_error\n",
    "    \n",
    "## END SOLUTION\n",
    "\n",
    "## testing\n",
    "sqerror(0.29,0.52)"
   ]
  },
  {
   "cell_type": "markdown",
   "metadata": {},
   "source": [
    "### Activity 2.2 - Define the L1 Absolute error function\n",
    "Define the function, abserror that computes the avarega absolute error based on the arguments provided. The function h(theta) is as defined above. Assume that x and y are the observed vectors. We use the average abssolute error in this case."
   ]
  },
  {
   "cell_type": "code",
   "execution_count": 7,
   "metadata": {},
   "outputs": [
    {
     "data": {
      "text/plain": [
       "15.484200426439234"
      ]
     },
     "execution_count": 7,
     "metadata": {},
     "output_type": "execute_result"
    }
   ],
   "source": [
    "import numpy as np\n",
    "import math\n",
    "\n",
    "## BEGIN SOLUTION\n",
    "def abserror(theta0, theta1):\n",
    "    \"\"\"\n",
    "    Input: parameters theta0 and theta1 of the model \n",
    "    Input: x, y vectors\n",
    "    Returns: L1 error sum\n",
    "    Assumptions: none\n",
    "    \"\"\"\n",
    "   \n",
    "    error = h(theta0, theta1, x)\n",
    "    absolute_error = np.sum(np.abs(error - y))\n",
    "\n",
    "    return absolute_error\n",
    "\n",
    "## END SOLUTION\n",
    "\n",
    "## testing\n",
    "abserror(0.29,0.52)"
   ]
  },
  {
   "attachments": {
    "image.png": {
     "image/png": "[encoded data removed]"
    }
   },
   "cell_type": "markdown",
   "metadata": {},
   "source": [
    "### Activity 2.3 - Define the Pseudo Huber loss function\n",
    "Define the function, phuberror that computes the pseudo huber error based on the two arguments provided. The function h(theta) is as defined above. Assume that x and y are the observed vectors. The equation for this function is given by \n",
    "![image.png](attachment:image.png)\n",
    "The following function finds the average huber error."
   ]
  },
  {
   "cell_type": "code",
   "execution_count": 8,
   "metadata": {},
   "outputs": [
    {
     "data": {
      "text/plain": [
       "0.006994227909507368"
      ]
     },
     "execution_count": 8,
     "metadata": {},
     "output_type": "execute_result"
    }
   ],
   "source": [
    "import numpy as np\n",
    "import math\n",
    "\n",
    "## BEGIN SOLUTION\n",
    "def huberror(theta0, theta1, delta):\n",
    "    \"\"\"\n",
    "    Input: parameters theta0 and theta1 of the model \n",
    "    Input: x, y vectors\n",
    "    Returns: psuedo huber error\n",
    "    Assumptions: none\n",
    "    \"\"\"\n",
    "    \n",
    "    huber_err = h(theta0, theta1, x)\n",
    "    huber_error = np.sum(np.square(delta)*(np.sqrt(1+np.square((huber_err-y)/delta)) - 1))\n",
    "    \n",
    "    return huber_error/len(x)\n",
    "## END SOLUTION\n",
    "\n",
    "## testing\n",
    "huberror(0.29,0.52,0.1)"
   ]
  },
  {
   "cell_type": "markdown",
   "metadata": {},
   "source": [
    "\n",
    "### Activity 2.4 Interactive Exploration.\n",
    "Let us initialize the interat widget (as in Lab5) to create sliders that allows us to change the values of theta0 and theta1 and see how things change. Complete the function f below. The function is expected to get two values theta0 and theta1 and plot both the observed points (x,y) and the regression line on the same plot. It also needs to compute the error and display and error."
   ]
  },
  {
   "cell_type": "code",
   "execution_count": 9,
   "metadata": {},
   "outputs": [
    {
     "name": "stderr",
     "output_type": "stream",
     "text": [
      "Enabling notebook extension jupyter-js-widgets/extension...\n",
      "      - Validating: ok\n"
     ]
    }
   ],
   "source": [
    "from ipywidgets import interact\n",
    "!jupyter nbextension enable --py widgetsnbextension"
   ]
  },
  {
   "cell_type": "code",
   "execution_count": 10,
   "metadata": {},
   "outputs": [
    {
     "data": {
      "application/vnd.jupyter.widget-view+json": {
       "model_id": "e63b4759543841009dc42af8e70de89e",
       "version_major": 2,
       "version_minor": 0
      },
      "text/plain": [
       "interactive(children=(FloatSlider(value=0.0, description='theta0', max=1.0), FloatSlider(value=0.0, descriptio…"
      ]
     },
     "metadata": {},
     "output_type": "display_data"
    }
   ],
   "source": [
    "# interactive panel\n",
    "import pylab\n",
    "import numpy\n",
    "\n",
    "def f(theta0, theta1):\n",
    "    \"\"\"\n",
    "    Plot the line and points in an interactive panel\n",
    "    \"\"\"\n",
    "    # plot the line for theta0 and theta1\n",
    "    y = h(theta0, theta1, x) \n",
    "    # compose plot\n",
    "    pylab.plot(x,y) \n",
    "    \n",
    "    # compute the L2 error for theta0 and theta1 for 5 decimal places\n",
    "    sqerr = round(sqerror(theta0, theta1),6)\n",
    "    # compute the absolute or L1 error for theta0 and theta1\n",
    "    abserr = round(abserror(theta0, theta1),4)\n",
    "    # compute the phub error for theta0 and theta1\n",
    "    huberr = round(huberror(theta0, theta1,0.01),4)\n",
    "    pylab.title('L1=' + str(abserr) + '  L2=' + str(sqerr) + '  hub=' + str(huberr))\n",
    "    \n",
    "    # plot the points\n",
    "    x1 = X_scaled_values   \n",
    "    y1 = Y_scaled_values\n",
    "    pylab.scatter(x1, y1, alpha=0.5)\n",
    "    pylab.show() # show the plot  \n",
    "\n",
    "interact(f, theta1=(0,1,0.1), theta0=(0,1,0.1));\n"
   ]
  },
  {
   "cell_type": "markdown",
   "metadata": {},
   "source": [
    "### Activity 2.5 Record the best values for each error function\n",
    "Write the \"best\" values you found for theta0 (y-intercept) and theta1 (slope) and the error. \n",
    "This error is the minimum you have observed based on the manual exploration using the widget \n",
    "above."
   ]
  },
  {
   "cell_type": "code",
   "execution_count": 11,
   "metadata": {},
   "outputs": [],
   "source": [
    "\n",
    "\n",
    "# BEST VALUES FOR AVE SQUARE ERROR (L2)\n",
    "theta0 = 0.30\n",
    "theta1 = 0.50\n",
    "error = 2.894196\n",
    "\n",
    "# BEST VALUES FOR AVE ABS ERROR (L1)\n",
    "theta0 = 0.30\n",
    "theta1 = 0.50\n",
    "error = 15.5006\n",
    "\n",
    "# BEST VALUES FOR AVE HUBER ERROR\n",
    "theta0 = 0.30\n",
    "theta1 = 0.50\n",
    "error = 0.0012"
   ]
  },
  {
   "cell_type": "markdown",
   "metadata": {},
   "source": [
    "# Task 3 - Gradient Descent\n",
    "In this task we need to use the Gradient descent methods to find a \"better\" values for theta0 and theta1 that minimizes the error. Gradient descent is an iterative algorithm. It computes values of theta0 and theta1 in the direction of reaching the minimum point in the graph. The iterative formulas for theta0 and theta1 are given by:\n",
    "$$\n",
    "\\theta_0 = \\theta_0 - \\alpha*(\\sum(\\theta_1*x_j + \\theta_0)-y_j)\n",
    "$$\n",
    "$$\n",
    "\\theta_1 = \\theta_1 - \\alpha*(\\sum(\\theta_1*x_j + \\theta_0 - y_j)*x_j\n",
    "$$\n",
    "\n",
    "The alpha is called the \"learning rate\". It is important to pick a good value for alpha so that convergence is not too slow (small alpha) or at the risk of over shooting the minimum point (large alpha). You may have to experiemnt with few alphas to find something that works."
   ]
  },
  {
   "cell_type": "markdown",
   "metadata": {},
   "source": [
    "### Activity 3.1 Compute using Gradient Descent algorithm (L2 loss)"
   ]
  },
  {
   "cell_type": "code",
   "execution_count": 12,
   "metadata": {},
   "outputs": [
    {
     "name": "stdout",
     "output_type": "stream",
     "text": [
      "0.05437313432835818 0.9967095948827293 4.3952600675839495\n",
      "0.044009367164179046 0.9593776206883948 4.216035305184609\n",
      "2\n"
     ]
    }
   ],
   "source": [
    "# given the observed data (obsX,obsY), learning rate (alpha), and desired error threshold, \n",
    "# the function returns theta0 and theta1\n",
    "# that reach the error threshold.\n",
    "# The convergence is reached when the newError - oldError is less than the threshold.\n",
    "\n",
    "# BEGIN SOLUTION  \n",
    "def gd2(obsX, obsY, alpha, threshold):\n",
    "    \"\"\"\n",
    "    Input : observed vectors X, Y, alpha and threshold\n",
    "    Return theta0, theta1 from Gradient Descent L2 loss algorithm\n",
    "    Return: Iterations and L2 Error\n",
    "    \"\"\"\n",
    "        \n",
    "    #alpha = learning rate\n",
    "    theta0 = 0\n",
    "    theta1 = 1\n",
    "    \n",
    "    newError = 1\n",
    "    oldError = 0\n",
    "    \n",
    "    count = 0\n",
    "    \n",
    "    while (newError - oldError) > threshold:\n",
    "        \n",
    "        sum0 = 0\n",
    "        sum1 = 0\n",
    "        \n",
    "        SUM = np.sum((theta1 * obsX) - obsY)\n",
    "        SUM /= len(x)\n",
    "        \n",
    "        for j in range(len(obsY)):\n",
    "            sum0 += ((theta1 * obsX[j] +theta0) - obsY[j])\n",
    "            sum1 += ((theta1 * obsX[j] + theta0 - obsY[j]) * obsX[j])\n",
    "\n",
    "        theta0 = theta0 - alpha * sum0\n",
    "        theta1 = theta1 - alpha * sum1\n",
    "        \n",
    "        oldError = newError\n",
    "        newError = sqerror(theta0, theta1)\n",
    "        \n",
    "        delta_err = np.abs(oldError - newError)\n",
    "        count += 1\n",
    "        \n",
    "        print(theta0[0],theta1[0], newError)\n",
    "    \n",
    "        \n",
    "    return (theta0[0], theta1[0], newError, count)\n",
    "        \n",
    "    \n",
    "# END SOLUTION\n",
    "\n",
    "[theta0,theta1,newError,iterations] = gd2(x,y,0.01,0.0001)\n",
    "print(iterations)"
   ]
  },
  {
   "cell_type": "code",
   "execution_count": 13,
   "metadata": {},
   "outputs": [
    {
     "data": {
      "text/plain": [
       "(0.044009367164179046, 0.9593776206883948)"
      ]
     },
     "execution_count": 13,
     "metadata": {},
     "output_type": "execute_result"
    }
   ],
   "source": [
    "# observe theta0 and theta1\n",
    "theta0, theta1"
   ]
  },
  {
   "cell_type": "markdown",
   "metadata": {},
   "source": [
    "### Activity 3.2 Compute Gradient Descent (Huber)\n",
    "First Compute a formula for huber gradient descent using derivative methods discussed in class. Similar to L2 descent, use the new formulas (obtained from huber derivatives) to compute values of theta1, theta1, error"
   ]
  },
  {
   "cell_type": "code",
   "execution_count": 14,
   "metadata": {},
   "outputs": [
    {
     "name": "stdout",
     "output_type": "stream",
     "text": [
      "0.00038447611997949126 1.000203491019599 0.0015226996903694489 0.01\n",
      "1\n"
     ]
    }
   ],
   "source": [
    "# given the observed data (obsX,obsY), learning rate (alpha), and desired error, \n",
    "# the function returns theta0, theta1, error and iterations\n",
    "# that reaches a minimum error threshold\n",
    "\n",
    "## BEGIN SOLUTION\n",
    "\n",
    "def gdh(obsX, obsY, alpha, threshold, delta):\n",
    "    \"\"\"\n",
    "    Input : observed vectors X, Y, alpha and threshold\n",
    "    Return theta0, theta1 from Gradient Descent huber loss algorithm\n",
    "    Return: Iterations and huber Error\n",
    "    \"\"\"\n",
    "    \n",
    "    theta0 = 0\n",
    "    theta1 = 1    \n",
    "\n",
    "    newError = 1\n",
    "    oldError = 0\n",
    "    \n",
    "    delta_err = np.abs(newError - oldError)\n",
    "    \n",
    "    count = 0\n",
    "    \n",
    "    while (newError - oldError) > threshold:\n",
    "        \n",
    "        sum0 = 0\n",
    "        sum1 = 0\n",
    "        \n",
    "        SUM = np.sum((theta0 + theta1 * obsX) - obsY)\n",
    "        SUM /= len(x)\n",
    "        \n",
    "        for j in range(len(x)):\n",
    "            sum0 += delta * np.power((1+ np.square(alpha/delta)), -1/2) * SUM\n",
    "            sum1 += delta * np.power((1+ np.square(alpha/delta)), -1/2) * SUM * obsX[j]\n",
    "            \n",
    "        theta0 = theta0 - alpha * sum0\n",
    "        theta1 = theta1 - alpha * sum1\n",
    "        \n",
    "        oldError = newError\n",
    "        newError = huberror(theta0, theta1, delta)\n",
    "        \n",
    "        delta_err = np.abs(oldError - newError)\n",
    "        count += 1\n",
    "        \n",
    "        print(theta0,theta1[0],newError, alpha)\n",
    "    \n",
    "    return(theta0, theta1[0], newError, count)\n",
    "    \n",
    "    \n",
    " \n",
    "## END SOLUTION\n",
    "# testing    \n",
    "[theta0,theta1,newError,iterations] = gdh(x,y,0.01,0.000001,0.01)\n",
    "print(iterations)"
   ]
  },
  {
   "cell_type": "markdown",
   "metadata": {},
   "source": [
    "### Activity 3.2\n",
    "1. Write the values of theta0, theta1, alpha, error that provided the minimum value through gradient descent\n",
    "2. Experiment the new values of theta0, theta1 to see if the interactive widget shows similar things.\n",
    "\n",
    "##### BEGIN ANSWER\n",
    "\n",
    "1. theta0 = 0.00038447611997949126 \n",
    "   theta1 = 1.000203491019599\n",
    "   alpha = 0.01\n",
    "   error = 0.0015226996903694489 \n",
    "\n",
    "2. Yes, it does.\n",
    "\n",
    "##### END ANSWER"
   ]
  },
  {
   "cell_type": "markdown",
   "metadata": {},
   "source": [
    "### Activity 3.3 Compare with Library Estimators\n",
    "Now use the sklearn LinearRegression module to automate this process. What coefficients do you get? Are they close to what you received from gradient descent? Find the error from sklearn package. Is that error smaller or bigger than the squared error you received?"
   ]
  },
  {
   "cell_type": "code",
   "execution_count": 15,
   "metadata": {},
   "outputs": [
    {
     "name": "stdout",
     "output_type": "stream",
     "text": [
      "[0.29620134]\n",
      "[[0.5238794]]\n"
     ]
    }
   ],
   "source": [
    "from sklearn.linear_model import LinearRegression\n",
    "lm = LinearRegression()\n",
    "result = lm.fit(x,y)\n",
    "print(result.intercept_)\n",
    "print(result.coef_)"
   ]
  },
  {
   "cell_type": "code",
   "execution_count": 16,
   "metadata": {},
   "outputs": [
    {
     "data": {
      "text/plain": [
       "2.8807167362296515"
      ]
     },
     "execution_count": 16,
     "metadata": {},
     "output_type": "execute_result"
    }
   ],
   "source": [
    "theta0 = result.intercept_\n",
    "theta1 = result.coef_\n",
    "sqerror(theta0,theta1)"
   ]
  },
  {
   "cell_type": "markdown",
   "metadata": {},
   "source": [
    "## Task 4- Predict Your Final Exam Score\n",
    "The regression line was obtained using grades from CS 205 course. We can consider them to be training data. Now we trained a model (with theta0 and theta1) so we can predict the grade for your own course based on your midterm grade.\n",
    "We will do few things before we can accomplish this task."
   ]
  },
  {
   "cell_type": "markdown",
   "metadata": {},
   "source": [
    "### Activity 4.1 Read the midterm grades\n",
    "The grade file for CS439 midterm is given in data/CS439_grades.csv. Read this data file to a new "
   ]
  },
  {
   "cell_type": "code",
   "execution_count": 17,
   "metadata": {},
   "outputs": [
    {
     "name": "stdout",
     "output_type": "stream",
     "text": [
      "<class 'pandas.core.frame.DataFrame'>\n",
      "RangeIndex: 97 entries, 0 to 96\n",
      "Data columns (total 1 columns):\n",
      "midterm    97 non-null float64\n",
      "dtypes: float64(1)\n",
      "memory usage: 856.0 bytes\n",
      "<class 'pandas.core.frame.DataFrame'>\n",
      "Int64Index: 96 entries, 0 to 96\n",
      "Data columns (total 1 columns):\n",
      "midterm    96 non-null float64\n",
      "dtypes: float64(1)\n",
      "memory usage: 1.5 KB\n"
     ]
    }
   ],
   "source": [
    "import pandas as pd\n",
    "df_439 = pd.read_csv(\"data/CS439_grades_03_15_19.csv\")\n",
    "df_439.info()\n",
    "mid = df_439[df_439['midterm']<80]\n",
    "mid.info()"
   ]
  },
  {
   "cell_type": "markdown",
   "metadata": {},
   "source": [
    "### Activity 4.2 Predict your Grade\n",
    "Scale the values in the midterm grades of CS 439 and compute the estimated final exam grade. Note that this is probably not a very good estimator since we are trying to predict final exam just by using a midterm score. However, using more features such as labs and quiz scores can help improve the accuracy. We will do that in a future lab. The output is shown as values scaled back to percentages (100% max)"
   ]
  },
  {
   "cell_type": "code",
   "execution_count": 18,
   "metadata": {},
   "outputs": [
    {
     "name": "stderr",
     "output_type": "stream",
     "text": [
      "C:\\Users\\danie\\Anaconda3\\lib\\site-packages\\ipykernel_launcher.py:13: SettingWithCopyWarning: \n",
      "A value is trying to be set on a copy of a slice from a DataFrame.\n",
      "Try using .loc[row_indexer,col_indexer] = value instead\n",
      "\n",
      "See the caveats in the documentation: http://pandas.pydata.org/pandas-docs/stable/indexing.html#indexing-view-versus-copy\n",
      "  del sys.path[0]\n",
      "C:\\Users\\danie\\Anaconda3\\lib\\site-packages\\ipykernel_launcher.py:14: SettingWithCopyWarning: \n",
      "A value is trying to be set on a copy of a slice from a DataFrame.\n",
      "Try using .loc[row_indexer,col_indexer] = value instead\n",
      "\n",
      "See the caveats in the documentation: http://pandas.pydata.org/pandas-docs/stable/indexing.html#indexing-view-versus-copy\n",
      "  \n",
      "C:\\Users\\danie\\Anaconda3\\lib\\site-packages\\ipykernel_launcher.py:16: SettingWithCopyWarning: \n",
      "A value is trying to be set on a copy of a slice from a DataFrame.\n",
      "Try using .loc[row_indexer,col_indexer] = value instead\n",
      "\n",
      "See the caveats in the documentation: http://pandas.pydata.org/pandas-docs/stable/indexing.html#indexing-view-versus-copy\n",
      "  app.launch_new_instance()\n",
      "C:\\Users\\danie\\Anaconda3\\lib\\site-packages\\ipykernel_launcher.py:17: SettingWithCopyWarning: \n",
      "A value is trying to be set on a copy of a slice from a DataFrame.\n",
      "Try using .loc[row_indexer,col_indexer] = value instead\n",
      "\n",
      "See the caveats in the documentation: http://pandas.pydata.org/pandas-docs/stable/indexing.html#indexing-view-versus-copy\n"
     ]
    },
    {
     "name": "stdout",
     "output_type": "stream",
     "text": [
      "Midterm: 61.5 Predicted: 61.858866076959785\n",
      "Midterm: 42.3 Predicted: 51.78426215207834\n",
      "Midterm: 52.6 Predicted: 57.15738424534843\n",
      "Midterm: 12.8 Predicted: 36.33653613392679\n",
      "Midterm: 94.9 Predicted: 79.3215128800876\n",
      "Midterm: 56.4 Predicted: 59.17230503032472\n",
      "Midterm: 39.7 Predicted: 50.44098162876081\n",
      "Midterm: 46.2 Predicted: 53.79918293705461\n",
      "Midterm: 43.6 Predicted: 52.4559024137371\n",
      "Midterm: 21.8 Predicted: 41.03801796553813\n",
      "Midterm: 48.7 Predicted: 55.14246346037215\n",
      "Midterm: 43.6 Predicted: 52.4559024137371\n",
      "Midterm: 75.6 Predicted: 69.24690895520615\n",
      "Midterm: 65.4 Predicted: 63.873786861936054\n",
      "Midterm: 52.6 Predicted: 57.15738424534843\n",
      "Midterm: 43.6 Predicted: 52.4559024137371\n",
      "Midterm: 61.5 Predicted: 61.858866076959785\n",
      "Midterm: 42.3 Predicted: 51.78426215207834\n",
      "Midterm: 60.3 Predicted: 61.18722581530102\n",
      "Midterm: 100.0 Predicted: 82.00807392672264\n",
      "Midterm: 70.5 Predicted: 66.5603479085711\n",
      "Midterm: 61.5 Predicted: 61.858866076959785\n",
      "Midterm: 0.0 Predicted: 29.62013351733917\n",
      "Midterm: 53.8 Predicted: 57.8290245070072\n",
      "Midterm: 34.6 Predicted: 47.75442058212577\n",
      "Midterm: 83.3 Predicted: 73.27675052515875\n",
      "Midterm: 67.9 Predicted: 65.21706738525359\n",
      "Midterm: 91.0 Predicted: 77.3065920951113\n",
      "Midterm: 29.5 Predicted: 45.06785953549071\n",
      "Midterm: 73.1 Predicted: 67.90362843188863\n",
      "Midterm: 67.9 Predicted: 65.21706738525359\n",
      "Midterm: 2.6 Predicted: 30.963414040656694\n",
      "Midterm: 61.5 Predicted: 61.858866076959785\n",
      "Midterm: 69.2 Predicted: 65.88870764691235\n",
      "Midterm: 48.7 Predicted: 55.14246346037215\n",
      "Midterm: 98.7 Predicted: 81.3364336650639\n",
      "Midterm: 34.6 Predicted: 47.75442058212577\n",
      "Midterm: 60.3 Predicted: 61.18722581530102\n",
      "Midterm: 44.9 Predicted: 53.12754267539586\n",
      "Midterm: 50.0 Predicted: 55.81410372203091\n",
      "Midterm: 69.2 Predicted: 65.88870764691235\n",
      "Midterm: 60.3 Predicted: 61.18722581530102\n",
      "Midterm: 83.3 Predicted: 73.27675052515875\n",
      "Midterm: 26.9 Predicted: 43.72457901217318\n",
      "Midterm: 61.5 Predicted: 61.858866076959785\n",
      "Midterm: 20.5 Predicted: 40.36637770387937\n",
      "Midterm: 19.2 Predicted: 39.69473744222061\n",
      "Midterm: 6.4 Predicted: 32.978334825632984\n",
      "Midterm: 80.8 Predicted: 71.93347000184121\n",
      "Midterm: 44.9 Predicted: 53.12754267539586\n",
      "Midterm: 26.9 Predicted: 43.72457901217318\n",
      "Midterm: 14.1 Predicted: 37.00817639558556\n",
      "Midterm: 67.9 Predicted: 65.21706738525359\n",
      "Midterm: 51.3 Predicted: 56.48574398368967\n",
      "Midterm: 24.4 Predicted: 42.381298488855656\n",
      "Midterm: 78.2 Predicted: 70.59018947852368\n",
      "Midterm: 23.1 Predicted: 41.7096582271969\n",
      "Midterm: 60.3 Predicted: 61.18722581530102\n",
      "Midterm: 71.8 Predicted: 67.23198817022987\n",
      "Midterm: 85.9 Predicted: 74.62003104847626\n",
      "Midterm: 50.0 Predicted: 55.81410372203091\n",
      "Midterm: 37.2 Predicted: 49.097701105443285\n",
      "Midterm: 73.1 Predicted: 67.90362843188863\n",
      "Midterm: 62.8 Predicted: 62.530506338618544\n",
      "Midterm: 59.0 Predicted: 60.51558555364225\n",
      "Midterm: 70.5 Predicted: 66.5603479085711\n",
      "Midterm: 5.1 Predicted: 32.306694563974226\n",
      "Midterm: 34.6 Predicted: 47.75442058212577\n",
      "Midterm: 19.2 Predicted: 39.69473744222061\n",
      "Midterm: 50.0 Predicted: 55.81410372203091\n",
      "Midterm: 67.9 Predicted: 65.21706738525359\n",
      "Midterm: 7.7 Predicted: 33.64997508729174\n",
      "Midterm: 67.9 Predicted: 65.21706738525359\n",
      "Midterm: 67.9 Predicted: 65.21706738525359\n",
      "Midterm: 53.8 Predicted: 57.8290245070072\n",
      "Midterm: 39.7 Predicted: 50.44098162876081\n",
      "Midterm: 43.6 Predicted: 52.4559024137371\n",
      "Midterm: 98.7 Predicted: 81.3364336650639\n",
      "Midterm: 79.5 Predicted: 71.26182974018245\n",
      "Midterm: 88.5 Predicted: 75.9633115717938\n",
      "Midterm: 55.1 Predicted: 58.500664768665956\n",
      "Midterm: 65.4 Predicted: 63.873786861936054\n",
      "Midterm: 57.7 Predicted: 59.84394529198349\n",
      "Midterm: 46.2 Predicted: 53.79918293705461\n",
      "Midterm: 51.9 Predicted: 56.82156411451905\n",
      "Midterm: 70.5 Predicted: 66.5603479085711\n",
      "Midterm: 51.3 Predicted: 56.48574398368967\n",
      "Midterm: 43.6 Predicted: 52.4559024137371\n",
      "Midterm: 6.4 Predicted: 32.978334825632984\n",
      "Midterm: 30.8 Predicted: 45.73949979714948\n",
      "Midterm: 96.2 Predicted: 79.99315314174635\n",
      "Midterm: 69.2 Predicted: 65.88870764691235\n",
      "Midterm: 64.1 Predicted: 63.202146600277295\n",
      "Midterm: 38.5 Predicted: 49.76934136710205\n",
      "Midterm: 42.3 Predicted: 51.78426215207834\n",
      "Midterm: 83.3 Predicted: 73.27675052515875\n"
     ]
    }
   ],
   "source": [
    "from sklearn import preprocessing\n",
    "from sklearn.linear_model import LinearRegression\n",
    "\n",
    "## BEGIN SOLUTION\n",
    " \n",
    "scalar = preprocessing.MinMaxScaler()\n",
    "model = LinearRegression()\n",
    "\n",
    "x = scalar.fit_transform(X)\n",
    "fit = model.fit(x, y)\n",
    "xscl = scalar.fit_transform(mid)\n",
    "    \n",
    "mid['scaled'] = xscl\n",
    "mid['midScaled'] = (np.round(mid['scaled'] * 100, 1))\n",
    "\n",
    "mid['prediction'] = lm.predict((mid['scaled'].values).reshape(-1,1))\n",
    "mid['prediction'] = mid['prediction'] * 100\n",
    "\n",
    "for i in range(len(mid)):\n",
    "    midtermScore = 'Midterm: ' + str(mid.loc[mid.index[i], 'midScaled'])\n",
    "    predictedScore = ' Predicted: ' + str(mid.loc[mid.index[i], 'prediction'])\n",
    "    \n",
    "    print(midtermScore + predictedScore)    \n",
    "    \n",
    "## END SOLUTION"
   ]
  },
  {
   "cell_type": "markdown",
   "metadata": {},
   "source": [
    "### Feedback\n",
    "Please provide feedback on this lab.\n",
    "* how would you rate this lab (from 1-10, 10-highest) :\n",
    "* how can we improve his lab? :"
   ]
  },
  {
   "cell_type": "markdown",
   "metadata": {},
   "source": [
    "<div class=\"alert alert-block alert-info\">\n",
    "<h2>Submission Instructions</h2> \n",
    "<b> File Name:</b> Please name the file as your_section_your_netID_lab6.jpynb<br>\n",
    "<b> Submit To: </b> Canvas &rarr; Assignments &rarr; lab6 <br>\n",
    "<b>Warning:</b> Failure to follow directions may result in loss points.<br>\n",
    "</div>"
   ]
  },
  {
   "cell_type": "markdown",
   "metadata": {},
   "source": [
    "Lab Developed by A.D. Gunawardena @ 2019 for CS 439"
   ]
  }
 ],
 "metadata": {
  "kernelspec": {
   "display_name": "Python 3",
   "language": "python",
   "name": "python3"
  },
  "language_info": {
   "codemirror_mode": {
    "name": "ipython",
    "version": 3
   },
   "file_extension": ".py",
   "mimetype": "text/x-python",
   "name": "python",
   "nbconvert_exporter": "python",
   "pygments_lexer": "ipython3",
   "version": "3.7.1"
  }
 },
 "nbformat": 4,
 "nbformat_minor": 2
}
